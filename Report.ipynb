{
 "cells": [
  {
   "cell_type": "markdown",
   "id": "ba4beab7",
   "metadata": {},
   "source": [
    "<p align=\"center\">\n",
    "  <img src=\"Iteso.png\" alt=\"Logo de la Escuela\" width=\"200\"/>\n",
    "</p>\n",
    "\n",
    "<h1 align=\"center\" style=\"color:#2e86c1; background-color:#f0f0f0; padding:10px; border-radius:10px;\">003 Generative Adversarial Networks</h1>\n",
    "\n",
    "<h2 align=\"center\" style=\"color:#2e86c1; background-color:#f0f0f0; padding:10px; border-radius:10px;\">Microestructuras y Sistemas de Trading</h2>\n",
    "\n",
    "<h3 align=\"center\" style=\"color:#2e86c1;\">Profesor: Luis Felipe Gomez Estrada</h3>\n",
    "\n",
    "<h3 align=\"center\" style=\"color:#2e86c1;\">Fecha: 11 de noviembre de 2024</h3>\n",
    "\n",
    "---\n",
    "\n",
    "### Integrantes:\n",
    "\n",
    "- <span style=\"color:#2e86c1;\">**Fernanda Yareli González Velázquez**</span>\n",
    "- <span style=\"color:#2e86c1;\">**Fernando Gutierrez Robles**</span>\n",
    "- <span style=\"color:#2e86c1;\">**Diego Alberto Topete González**</span>\n",
    "- <span style=\"color:#2e86c1;\">**Cristian Vazquez Plesent**</span>\n",
    "\n",
    "---\n",
    "\n",
    "<p align=\"center\">\n",
    "  <em style=\"color:#2e86c1;\">Instituto Tecnológico y de Estudios Superiores de Occidente</em>\n",
    "</p>"
   ]
  },
  {
   "cell_type": "markdown",
   "id": "53602844",
   "metadata": {},
   "source": [
    "<h2 style=\"color:#2e86c1; background-color:#f0f0f0; padding:10px; border-radius:10px; text-align:center;\">Project Overview</h2>\n",
    "\n",
    "<p style=\"color:#2e86c1;\">\n",
    "  This project focuses on developing a Generative Adversarial Network (GAN) to simulate trading scenarios based on historical price data. The goal is to generate a variety of possible market scenarios, enabling the testing and validation of algorithmic trading strategies.\n",
    "</p>\n",
    "\n",
    "<p style=\"color:#2e86c1;\">\n",
    "  We use ten years of historical data from <strong>Apple Inc. (AAPL)</strong> to train the GAN model and generate 100 simulated scenarios. A simple trading strategy is backtested on these scenarios, and metrics such as Sharpe Ratio, Calmar Ratio, Max Drawdown, and Win-Loss Ratio are computed.\n",
    "</p>\n",
    "\n",
    "<p style=\"color:#2e86c1;\">\n",
    "  The report includes visualizations and key metrics comparing the active trading strategy's performance with a passive benchmark strategy.\n",
    "</p>\n"
   ]
  },
  {
   "cell_type": "markdown",
   "id": "548e5bd1",
   "metadata": {},
   "source": [
    "<h2 style=\"color:#2e86c1; background-color:#f0f0f0; padding:10px; border-radius:10px; text-align:center;\">GAN Architecture and Training</h2>\n",
    "\n",
    "<p style=\"color:#2e86c1;\">\n",
    "  The model is based on the <strong>Wasserstein GAN (WGAN)</strong> architecture, chosen for its stability in training and ability to simulate realistic market conditions by minimizing the Earth Mover (EM) distance. This approach is beneficial for financial data due to its capability to handle non-overlapping low-dimensional manifolds, common in price series.\n",
    "</p>\n"
   ]
  },
  {
   "cell_type": "markdown",
   "id": "66403e3e",
   "metadata": {},
   "source": [
    "<h2 style=\"color:#2e86c1; background-color:#f0f0f0; padding:10px; border-radius:10px; text-align:center;\">Backtesting Results</h2>\n",
    "\n",
    "<p style=\"color:#2e86c1;\">\n",
    "  After generating 100 simulated scenarios, a trading strategy was applied, testing different stop-loss and take-profit levels. The average performance across the scenarios was measured using the following metrics:\n",
    "</p>\n",
    "\n",
    "<ul style=\"color:#2e86c1;\">\n",
    "  <li><strong>Sharpe Ratio</strong>: Measures risk-adjusted returns.</li>\n",
    "  <li><strong>Calmar Ratio</strong>: Ratio of average annual returns to maximum drawdown.</li>\n",
    "  <li><strong>Max Drawdown</strong>: Largest peak-to-trough drop observed.</li>\n",
    "  <li><strong>Win-Loss Ratio</strong>: Number of profitable vs. unprofitable trades.</li>\n",
    "</ul>\n",
    "\n",
    "<p style=\"color:#2e86c1;\">\n",
    "  Here is a summary of the optimal parameters and metrics obtained:\n",
    "</p>\n"
   ]
  },
  {
   "cell_type": "markdown",
   "id": "b3dfcdd0",
   "metadata": {},
   "source": [
    "<ul style=\"color:#2e86c1; background-color:#f0f0f0; font-size:20px; padding:10px; border-radius:10px; border: 2px solid #2e86c1; font-weight: bold; list-style-type: none; text-align: center;\">\n",
    "  <li><strong>Final Capital:</strong> $X,XXX,XXX.XX</li>\n",
    "  <li><strong>Best Stop-Loss / Take-Profit:</strong> X%</li>\n",
    "  <li><strong>Sharpe Ratio:</strong> X.XX</li>\n",
    "  <li><strong>Calmar Ratio:</strong> X.XX</li>\n",
    "</ul>\n",
    "\n",
    "<p align=\"center\">\n",
    "  <img src=\"Resultado_GAN.png\" alt=\"Resultados de GAN\" width=\"800\"/>\n",
    "</p>\n"
   ]
  },
  {
   "cell_type": "markdown",
   "id": "0a5580c2",
   "metadata": {},
   "source": [
    "<h2 style=\"color:#2e86c1; background-color:#f0f0f0; padding:10px; border-radius:10px; text-align:center;\">Generated Synthetic Returns by GAN</h2>\n",
    "\n",
    "<p align=\"center\">\n",
    "  <img src=\"P31.png\" alt=\"Rendimientos Sintéticos Generados por el GAN\" width=\"800\"/>\n",
    "</p>\n",
    "\n",
    "<p style=\"color:#2e86c1;\">\n",
    "  The above plot shows the synthetic returns generated by the GAN model. These scenarios provide a range of potential market conditions to test the robustness of the trading strategy.\n",
    "</p>\n",
    "\n",
    "<h2 style=\"color:#2e86c1; background-color:#f0f0f0; padding:10px; border-radius:10px; text-align:center;\">Original Series vs Simulated Price Series</h2>\n",
    "\n",
    "<p align=\"center\">\n",
    "  <img src=\"P32.png\" alt=\"Comparación de la Serie de Precios Original vs Escenarios Simulados\" width=\"800\"/>\n",
    "</p>\n",
    "\n",
    "<p style=\"color:#2e86c1;\">\n",
    "  This plot compares the original price series with several simulated scenarios. The simulations diverge over time, providing a range of potential price paths that will allow backtesting the strategy under different market conditions.\n",
    "</p>\n"
   ]
  },
  {
   "cell_type": "markdown",
   "id": "c1964a5d",
   "metadata": {},
   "source": [
    "<h2 style=\"color:#2e86c1; background-color:#f0f0f0; padding:10px; border-radius:10px; text-align:center;\">Conclusions</h2>\n",
    "\n",
    "<h3 style=\"color:#2e86c1;\">Diego Alberto Topete González</h3>\n",
    "<p style=\"color:#2e86c1;\">\n",
    "  This project provided valuable insights into the potential of Generative Adversarial Networks (GANs) for simulating diverse market scenarios, allowing us to evaluate trading strategies under a variety of conditions. The active strategy demonstrated strong performance across many simulated paths, highlighting the advantages of a data-driven, optimized approach. However, the volatility and drawdowns observed in some scenarios reinforced the importance of robust risk management. Working on this project emphasized the need for a careful balance between maximizing returns and controlling risks, especially in high-volatility markets. This experience deepened my understanding of how simulations can play a critical role in stress-testing strategies before deployment in live markets.\n",
    "</p>\n",
    "\n",
    "<h3 style=\"color:#2e86c1;\">Fernanda Yareli González Velázquez</h3>\n",
    "<p style=\"color:#2e86c1;\">\n",
    "  My main takeaway from this project was the effectiveness of using GANs to create realistic, synthetic price paths, which enabled a comprehensive testing ground for our trading strategy. The ability to simulate 100 unique scenarios provided a robust basis for evaluating the resilience of the active strategy, especially in comparison to a passive approach. The optimization of parameters, such as stop-loss and take-profit levels, proved to be crucial in achieving favorable risk-adjusted returns. Additionally, comparing the active strategy with the passive one highlighted the advantages of dynamic, data-driven decision-making. This project enhanced my understanding of the role of artificial intelligence in trading and demonstrated the importance of tailoring strategies to adapt to various market conditions.\n",
    "</p>\n",
    "\n",
    "<h3 style=\"color:#2e86c1;\">Fernando Gutierrez Robles</h3>\n",
    "\n",
    "<h3 style=\"color:#2e86c1;\">Cristian Vazquez Plesent</h3>"
   ]
  }
 ],
 "metadata": {
  "kernelspec": {
   "display_name": "Python 3 (ipykernel)",
   "language": "python",
   "name": "python3"
  },
  "language_info": {
   "codemirror_mode": {
    "name": "ipython",
    "version": 3
   },
   "file_extension": ".py",
   "mimetype": "text/x-python",
   "name": "python",
   "nbconvert_exporter": "python",
   "pygments_lexer": "ipython3",
   "version": "3.9.12"
  }
 },
 "nbformat": 4,
 "nbformat_minor": 5
}
